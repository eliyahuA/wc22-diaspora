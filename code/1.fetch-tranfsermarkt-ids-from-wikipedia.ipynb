{
 "cells": [
  {
   "cell_type": "code",
   "execution_count": 1,
   "id": "0c2dfe52",
   "metadata": {},
   "outputs": [],
   "source": [
    "from bs4 import BeautifulSoup\n",
    "import pandas as pd\n",
    "from pprint import pprint\n",
    "import re\n",
    "import requests\n",
    "from tqdm.notebook import tqdm\n",
    "import time"
   ]
  },
  {
   "cell_type": "code",
   "execution_count": 2,
   "id": "339fe288",
   "metadata": {},
   "outputs": [],
   "source": [
    "# The ones which were already downloaded\n",
    "df_old = pd.read_csv(\"../output/2022-wikipedia-to-transfermarkt.csv\")"
   ]
  },
  {
   "cell_type": "code",
   "execution_count": 3,
   "id": "dd79337d",
   "metadata": {},
   "outputs": [
    {
     "data": {
      "text/html": [
       "<div>\n",
       "<style scoped>\n",
       "    .dataframe tbody tr th:only-of-type {\n",
       "        vertical-align: middle;\n",
       "    }\n",
       "\n",
       "    .dataframe tbody tr th {\n",
       "        vertical-align: top;\n",
       "    }\n",
       "\n",
       "    .dataframe thead th {\n",
       "        text-align: right;\n",
       "    }\n",
       "</style>\n",
       "<table border=\"1\" class=\"dataframe\">\n",
       "  <thead>\n",
       "    <tr style=\"text-align: right;\">\n",
       "      <th></th>\n",
       "      <th>wikipedia_page</th>\n",
       "      <th>transfermarkt_id</th>\n",
       "      <th>transfermarkt_name</th>\n",
       "    </tr>\n",
       "  </thead>\n",
       "  <tbody>\n",
       "    <tr>\n",
       "      <th>0</th>\n",
       "      <td>https://en.wikipedia.org/wiki/Remko_Pasveer</td>\n",
       "      <td>25520</td>\n",
       "      <td>Remko Pasveer</td>\n",
       "    </tr>\n",
       "    <tr>\n",
       "      <th>1</th>\n",
       "      <td>https://en.wikipedia.org/wiki/Jurri%C3%ABn_Timber</td>\n",
       "      <td>420243</td>\n",
       "      <td>Jurrien Timber</td>\n",
       "    </tr>\n",
       "    <tr>\n",
       "      <th>2</th>\n",
       "      <td>https://en.wikipedia.org/wiki/Matthijs_de_Ligt</td>\n",
       "      <td>326031</td>\n",
       "      <td>Matthijs de Ligt</td>\n",
       "    </tr>\n",
       "    <tr>\n",
       "      <th>3</th>\n",
       "      <td>https://en.wikipedia.org/wiki/Virgil_van_Dijk</td>\n",
       "      <td>139208</td>\n",
       "      <td>Virgil van Dijk</td>\n",
       "    </tr>\n",
       "    <tr>\n",
       "      <th>4</th>\n",
       "      <td>https://en.wikipedia.org/wiki/Nathan_Ak%C3%A9</td>\n",
       "      <td>177476</td>\n",
       "      <td>Nathan Aké</td>\n",
       "    </tr>\n",
       "  </tbody>\n",
       "</table>\n",
       "</div>"
      ],
      "text/plain": [
       "                                      wikipedia_page  transfermarkt_id  \\\n",
       "0        https://en.wikipedia.org/wiki/Remko_Pasveer             25520   \n",
       "1  https://en.wikipedia.org/wiki/Jurri%C3%ABn_Timber            420243   \n",
       "2     https://en.wikipedia.org/wiki/Matthijs_de_Ligt            326031   \n",
       "3      https://en.wikipedia.org/wiki/Virgil_van_Dijk            139208   \n",
       "4      https://en.wikipedia.org/wiki/Nathan_Ak%C3%A9            177476   \n",
       "\n",
       "  transfermarkt_name  \n",
       "0      Remko Pasveer  \n",
       "1     Jurrien Timber  \n",
       "2   Matthijs de Ligt  \n",
       "3    Virgil van Dijk  \n",
       "4         Nathan Aké  "
      ]
     },
     "execution_count": 3,
     "metadata": {},
     "output_type": "execute_result"
    }
   ],
   "source": [
    "df_old.head()"
   ]
  },
  {
   "cell_type": "code",
   "execution_count": 4,
   "id": "a69c706b",
   "metadata": {},
   "outputs": [],
   "source": [
    "# Request\n",
    "url = 'https://en.wikipedia.org/wiki/2022_FIFA_World_Cup_squads'\n",
    "r = requests.get(url)\n",
    "soup = BeautifulSoup(r.text)"
   ]
  },
  {
   "cell_type": "code",
   "execution_count": 5,
   "id": "b3e25336",
   "metadata": {},
   "outputs": [],
   "source": [
    "# Find the tables\n",
    "tables = soup.find_all('table')"
   ]
  },
  {
   "cell_type": "code",
   "execution_count": 6,
   "id": "f9d46325",
   "metadata": {},
   "outputs": [
    {
     "data": {
      "text/plain": [
       "32"
      ]
     },
     "execution_count": 6,
     "metadata": {},
     "output_type": "execute_result"
    }
   ],
   "source": [
    "# Check if the tables have the wanted columns\n",
    "tables = [table for table in tables if len(table.find_all(\"abbr\")) == 2] # only player tables have 2 abbr\n",
    "len(tables)"
   ]
  },
  {
   "cell_type": "code",
   "execution_count": 7,
   "id": "69502a2f",
   "metadata": {},
   "outputs": [],
   "source": [
    "# For each table, find all the player links\n",
    "player_links = []\n",
    "for table in tables:\n",
    "    players = table.find_all(\"tr\", class_='nat-fs-player')\n",
    "    \n",
    "    for player in players:\n",
    "        link = player.find('th').find('a')['href']\n",
    "        player_links.append(link)"
   ]
  },
  {
   "cell_type": "code",
   "execution_count": 8,
   "id": "6428e0c8",
   "metadata": {},
   "outputs": [
    {
     "data": {
      "application/vnd.jupyter.widget-view+json": {
       "model_id": "d8656dd115c14d4da6d0ed79703233c2",
       "version_major": 2,
       "version_minor": 0
      },
      "text/plain": [
       "  0%|          | 0/831 [00:00<?, ?it/s]"
      ]
     },
     "metadata": {},
     "output_type": "display_data"
    },
    {
     "name": "stdout",
     "output_type": "stream",
     "text": [
      "https://en.wikipedia.org/wiki/Alexander_Dom%C3%ADnguez\n",
      "{'query': 'https://en.wikipedia.org/wiki/Alexander_Dom%C3%ADnguez', 'wikibase_url': 'https://www.wikidata.org/wiki/Special:EntityPage/Q2667325', 'wikibase_item': '2667325'}\n",
      "https://en.wikipedia.org/wiki/Hern%C3%A1n_Gal%C3%ADndez\n",
      "{'query': 'https://en.wikipedia.org/wiki/Hern%C3%A1n_Gal%C3%ADndez', 'wikibase_url': 'https://www.wikidata.org/wiki/Special:EntityPage/Q5742434', 'wikibase_item': '5742434'}\n",
      "https://en.wikipedia.org/wiki/Mois%C3%A9s_Ram%C3%ADrez\n",
      "{'query': 'https://en.wikipedia.org/wiki/Mois%C3%A9s_Ram%C3%ADrez', 'wikibase_url': 'https://www.wikidata.org/wiki/Special:EntityPage/Q60842106', 'wikibase_item': '60842106'}\n",
      "https://en.wikipedia.org/wiki/Robert_Arboleda\n",
      "{'query': 'https://en.wikipedia.org/wiki/Robert_Arboleda', 'wikibase_url': 'https://www.wikidata.org/wiki/Special:EntityPage/Q22082660', 'wikibase_item': '22082660'}\n",
      "https://en.wikipedia.org/wiki/Xavier_Arreaga\n",
      "{'query': 'https://en.wikipedia.org/wiki/Xavier_Arreaga', 'wikibase_url': 'https://www.wikidata.org/wiki/Special:EntityPage/Q19406042', 'wikibase_item': '19406042'}\n",
      "https://en.wikipedia.org/wiki/Pervis_Estupi%C3%B1%C3%A1n\n",
      "{'query': 'https://en.wikipedia.org/wiki/Pervis_Estupi%C3%B1%C3%A1n', 'wikibase_url': 'https://www.wikidata.org/wiki/Special:EntityPage/Q20994068', 'wikibase_item': '20994068'}\n",
      "https://en.wikipedia.org/wiki/Piero_Hincapi%C3%A9\n",
      "{'query': 'https://en.wikipedia.org/wiki/Piero_Hincapi%C3%A9', 'wikibase_url': 'https://www.wikidata.org/wiki/Special:EntityPage/Q101053044', 'wikibase_item': '101053044'}\n",
      "https://en.wikipedia.org/wiki/William_Pacho\n",
      "{'query': 'https://en.wikipedia.org/wiki/William_Pacho', 'wikibase_url': 'https://www.wikidata.org/wiki/Special:EntityPage/Q87767569', 'wikibase_item': '87767569'}\n",
      "https://en.wikipedia.org/wiki/Diego_Palacios\n",
      "{'query': 'https://en.wikipedia.org/wiki/Diego_Palacios', 'wikibase_url': 'https://www.wikidata.org/wiki/Special:EntityPage/Q56249856', 'wikibase_item': '56249856'}\n",
      "https://en.wikipedia.org/wiki/Jackson_Porozo\n",
      "{'query': 'https://en.wikipedia.org/wiki/Jackson_Porozo', 'wikibase_url': 'https://www.wikidata.org/wiki/Special:EntityPage/Q60842110', 'wikibase_item': '60842110'}\n",
      "https://en.wikipedia.org/wiki/%C3%81ngelo_Preciado\n",
      "{'query': 'https://en.wikipedia.org/wiki/%C3%81ngelo_Preciado', 'wikibase_url': 'https://www.wikidata.org/wiki/Special:EntityPage/Q56599873', 'wikibase_item': '56599873'}\n",
      "https://en.wikipedia.org/wiki/F%C3%A9lix_Torres_(footballer,_born_1997)\n",
      "{'query': 'https://en.wikipedia.org/wiki/F%C3%A9lix_Torres_(footballer,_born_1997)', 'wikibase_url': 'https://www.wikidata.org/wiki/Special:EntityPage/Q30916190', 'wikibase_item': '30916190'}\n",
      "https://en.wikipedia.org/wiki/Mois%C3%A9s_Caicedo\n",
      "{'query': 'https://en.wikipedia.org/wiki/Mois%C3%A9s_Caicedo', 'wikibase_url': 'https://www.wikidata.org/wiki/Special:EntityPage/Q87715532', 'wikibase_item': '87715532'}\n",
      "https://en.wikipedia.org/wiki/Jos%C3%A9_Cifuentes\n",
      "{'query': 'https://en.wikipedia.org/wiki/Jos%C3%A9_Cifuentes', 'wikibase_url': 'https://www.wikidata.org/wiki/Special:EntityPage/Q60842113', 'wikibase_item': '60842113'}\n",
      "https://en.wikipedia.org/wiki/Alan_Franco_(footballer,_born_1998)\n",
      "{'query': 'https://en.wikipedia.org/wiki/Alan_Franco_(footballer,_born_1998)', 'wikibase_url': 'https://www.wikidata.org/wiki/Special:EntityPage/Q56164119', 'wikibase_item': '56164119'}\n",
      "https://en.wikipedia.org/wiki/Carlos_Gruezo_(footballer,_born_1995)\n",
      "{'query': 'https://en.wikipedia.org/wiki/Carlos_Gruezo_(footballer,_born_1995)', 'wikibase_url': 'https://www.wikidata.org/wiki/Special:EntityPage/Q12156405', 'wikibase_item': '12156405'}\n",
      "https://en.wikipedia.org/wiki/%C3%81ngel_Mena\n",
      "{'query': 'https://en.wikipedia.org/wiki/%C3%81ngel_Mena', 'wikibase_url': 'https://www.wikidata.org/wiki/Special:EntityPage/Q6173337', 'wikibase_item': '6173337'}\n",
      "https://en.wikipedia.org/wiki/Sebas_M%C3%A9ndez\n",
      "{'query': 'https://en.wikipedia.org/wiki/Sebas_M%C3%A9ndez', 'wikibase_url': 'https://www.wikidata.org/wiki/Special:EntityPage/Q27786601', 'wikibase_item': '27786601'}\n",
      "https://en.wikipedia.org/wiki/Gonzalo_Plata\n",
      "{'query': 'https://en.wikipedia.org/wiki/Gonzalo_Plata', 'wikibase_url': 'https://www.wikidata.org/wiki/Special:EntityPage/Q60842120', 'wikibase_item': '60842120'}\n",
      "https://en.wikipedia.org/wiki/Kevin_Rodr%C3%ADguez\n",
      "{'query': 'https://en.wikipedia.org/wiki/Kevin_Rodr%C3%ADguez', 'wikibase_url': 'https://www.wikidata.org/wiki/Special:EntityPage/Q115132592', 'wikibase_item': '115132592'}\n",
      "https://en.wikipedia.org/wiki/Jeremy_Sarmiento\n",
      "{'query': 'https://en.wikipedia.org/wiki/Jeremy_Sarmiento', 'wikibase_url': 'https://www.wikidata.org/wiki/Special:EntityPage/Q108659564', 'wikibase_item': '108659564'}\n",
      "https://en.wikipedia.org/wiki/Michael_Estrada\n",
      "{'query': 'https://en.wikipedia.org/wiki/Michael_Estrada', 'wikibase_url': 'https://www.wikidata.org/wiki/Special:EntityPage/Q21573004', 'wikibase_item': '21573004'}\n",
      "https://en.wikipedia.org/wiki/Romario_Ibarra\n",
      "{'query': 'https://en.wikipedia.org/wiki/Romario_Ibarra', 'wikibase_url': 'https://www.wikidata.org/wiki/Special:EntityPage/Q22082699', 'wikibase_item': '22082699'}\n",
      "https://en.wikipedia.org/wiki/Ayrton_Preciado\n",
      "{'query': 'https://en.wikipedia.org/wiki/Ayrton_Preciado', 'wikibase_url': 'https://www.wikidata.org/wiki/Special:EntityPage/Q16301693', 'wikibase_item': '16301693'}\n",
      "https://en.wikipedia.org/wiki/Djorkaeff_Reasco\n",
      "{'query': 'https://en.wikipedia.org/wiki/Djorkaeff_Reasco', 'wikibase_url': 'https://www.wikidata.org/wiki/Special:EntityPage/Q94535575', 'wikibase_item': '94535575'}\n",
      "https://en.wikipedia.org/wiki/Enner_Valencia\n",
      "{'query': 'https://en.wikipedia.org/wiki/Enner_Valencia', 'wikibase_url': 'https://www.wikidata.org/wiki/Special:EntityPage/Q2843080', 'wikibase_item': '2843080'}\n"
     ]
    }
   ],
   "source": [
    "# After finding all players, we will retrieve the wikidata entry for each one of them\n",
    "wikibase_list = []\n",
    "for index, player_url in enumerate(tqdm(player_links)):\n",
    "    \n",
    "    query = f\"https://en.wikipedia.org{player_url}\"\n",
    "    \n",
    "    if query in df_old.wikipedia_page.unique().tolist():\n",
    "        continue\n",
    "    \n",
    "    print(query)\n",
    "    \n",
    "    r = requests.get(query)\n",
    "    soup = BeautifulSoup(r.text)\n",
    "        \n",
    "    wikibase_url = soup.find(\"li\", {\"id\": \"t-wikibase\"}).find('a')['href']\n",
    "    wikibase_item = re.search(\"\\d+\", wikibase_url).group(0)\n",
    "    \n",
    "\n",
    "    datapoint = {\"query\": query, \n",
    "                     \"wikibase_url\": wikibase_url, \n",
    "                     \"wikibase_item\": wikibase_item}\n",
    "                              \n",
    "    print(datapoint)\n",
    "    \n",
    "    wikibase_list.append(datapoint)"
   ]
  },
  {
   "cell_type": "code",
   "execution_count": 9,
   "id": "78e80536",
   "metadata": {},
   "outputs": [],
   "source": [
    "dataset = []\n",
    "scrapped = []"
   ]
  },
  {
   "cell_type": "code",
   "execution_count": 10,
   "id": "92e7cd64",
   "metadata": {
    "scrolled": true
   },
   "outputs": [
    {
     "data": {
      "application/vnd.jupyter.widget-view+json": {
       "model_id": "696681b39fe3481c876121f22cee4f12",
       "version_major": 2,
       "version_minor": 0
      },
      "text/plain": [
       "  0%|          | 0/26 [00:00<?, ?it/s]"
      ]
     },
     "metadata": {},
     "output_type": "display_data"
    },
    {
     "name": "stdout",
     "output_type": "stream",
     "text": [
      "2667325\n",
      "{'wikipedia_page': 'https://en.wikipedia.org/wiki/Alexander_Dom%C3%ADnguez', 'transfermarkt_id': '84310', 'transfermarkt_name': 'Alexander Domínguez'}\n",
      "5742434\n",
      "{'wikipedia_page': 'https://en.wikipedia.org/wiki/Hern%C3%A1n_Gal%C3%ADndez', 'transfermarkt_id': '77127', 'transfermarkt_name': 'not on wikidata'}\n",
      "60842106\n",
      "{'wikipedia_page': 'https://en.wikipedia.org/wiki/Mois%C3%A9s_Ram%C3%ADrez', 'transfermarkt_id': '450233', 'transfermarkt_name': 'not on wikidata'}\n",
      "22082660\n",
      "{'wikipedia_page': 'https://en.wikipedia.org/wiki/Robert_Arboleda', 'transfermarkt_id': '139867', 'transfermarkt_name': 'Robert Arboleda'}\n",
      "19406042\n",
      "{'wikipedia_page': 'https://en.wikipedia.org/wiki/Xavier_Arreaga', 'transfermarkt_id': '323854', 'transfermarkt_name': 'Xavier Arreaga'}\n",
      "20994068\n",
      "{'wikipedia_page': 'https://en.wikipedia.org/wiki/Pervis_Estupi%C3%B1%C3%A1n', 'transfermarkt_id': '349599', 'transfermarkt_name': 'Pervis Estupiñán'}\n",
      "101053044\n",
      "{'wikipedia_page': 'https://en.wikipedia.org/wiki/Piero_Hincapi%C3%A9', 'transfermarkt_id': '659813', 'transfermarkt_name': 'not on wikidata'}\n",
      "87767569\n",
      "{'wikipedia_page': 'https://en.wikipedia.org/wiki/William_Pacho', 'transfermarkt_id': '661171', 'transfermarkt_name': 'not on wikidata'}\n",
      "56249856\n",
      "{'wikipedia_page': 'https://en.wikipedia.org/wiki/Diego_Palacios', 'transfermarkt_id': '425567', 'transfermarkt_name': 'Diego Palacios'}\n",
      "60842110\n",
      "{'wikipedia_page': 'https://en.wikipedia.org/wiki/Jackson_Porozo', 'transfermarkt_id': '491616', 'transfermarkt_name': 'Jackson Porozo'}\n",
      "56599873\n",
      "{'wikipedia_page': 'https://en.wikipedia.org/wiki/%C3%81ngelo_Preciado', 'transfermarkt_id': '450241', 'transfermarkt_name': 'Angelo Preciado'}\n",
      "30916190\n",
      "{'wikipedia_page': 'https://en.wikipedia.org/wiki/F%C3%A9lix_Torres_(footballer,_born_1997)', 'transfermarkt_id': '468174', 'transfermarkt_name': 'Félix Torres'}\n",
      "87715532\n",
      "{'wikipedia_page': 'https://en.wikipedia.org/wiki/Mois%C3%A9s_Caicedo', 'transfermarkt_id': '687626', 'transfermarkt_name': 'Moisés Caicedo'}\n",
      "60842113\n",
      "{'wikipedia_page': 'https://en.wikipedia.org/wiki/Jos%C3%A9_Cifuentes', 'transfermarkt_id': '450211', 'transfermarkt_name': 'José Cifuentes'}\n",
      "56164119\n",
      "{'wikipedia_page': 'https://en.wikipedia.org/wiki/Alan_Franco_(footballer,_born_1998)', 'transfermarkt_id': '400960', 'transfermarkt_name': 'not on wikidata'}\n",
      "12156405\n",
      "{'wikipedia_page': 'https://en.wikipedia.org/wiki/Carlos_Gruezo_(footballer,_born_1995)', 'transfermarkt_id': '189475', 'transfermarkt_name': 'Carlos Gruezo'}\n",
      "6173337\n",
      "{'wikipedia_page': 'https://en.wikipedia.org/wiki/%C3%81ngel_Mena', 'transfermarkt_id': '123609', 'transfermarkt_name': 'Ángel Mena'}\n",
      "27786601\n",
      "{'wikipedia_page': 'https://en.wikipedia.org/wiki/Sebas_M%C3%A9ndez', 'transfermarkt_id': '330682', 'transfermarkt_name': 'Jhegson Méndez'}\n",
      "60842120\n",
      "{'wikipedia_page': 'https://en.wikipedia.org/wiki/Gonzalo_Plata', 'transfermarkt_id': '592735', 'transfermarkt_name': 'Gonzalo Plata'}\n",
      "115132592\n",
      "{'wikipedia_page': 'https://en.wikipedia.org/wiki/Kevin_Rodr%C3%ADguez', 'transfermarkt_id': '684159', 'transfermarkt_name': 'not on wikidata'}\n",
      "108659564\n",
      "{'wikipedia_page': 'https://en.wikipedia.org/wiki/Jeremy_Sarmiento', 'transfermarkt_id': '568005', 'transfermarkt_name': 'not on wikidata'}\n",
      "21573004\n",
      "{'wikipedia_page': 'https://en.wikipedia.org/wiki/Michael_Estrada', 'transfermarkt_id': '265481', 'transfermarkt_name': 'Michael Estrada'}\n",
      "22082699\n",
      "{'wikipedia_page': 'https://en.wikipedia.org/wiki/Romario_Ibarra', 'transfermarkt_id': '263605', 'transfermarkt_name': 'Romario Ibarra'}\n",
      "16301693\n",
      "{'wikipedia_page': 'https://en.wikipedia.org/wiki/Ayrton_Preciado', 'transfermarkt_id': '212310', 'transfermarkt_name': 'Ayrton Preciado'}\n",
      "94535575\n",
      "{'wikipedia_page': 'https://en.wikipedia.org/wiki/Djorkaeff_Reasco', 'transfermarkt_id': '473346', 'transfermarkt_name': 'not on wikidata'}\n",
      "2843080\n",
      "{'wikipedia_page': 'https://en.wikipedia.org/wiki/Enner_Valencia', 'transfermarkt_id': '139503', 'transfermarkt_name': 'Enner Valencia'}\n"
     ]
    }
   ],
   "source": [
    "# For each player,get their transfermarkt id from wikidata\n",
    "for wikibase_item in tqdm(wikibase_list):\n",
    "    \n",
    "    wikibase_url = wikibase_item['wikibase_url']\n",
    "    wikipedia_page = wikibase_item['query']\n",
    "    wikibase_id = wikibase_item['wikibase_item']\n",
    "    \n",
    "    if wikipedia_page in df_old.wikipedia_page.unique().tolist():\n",
    "        continue\n",
    "        \n",
    "    print(wikibase_id)\n",
    "    \n",
    "    r = requests.get(wikibase_url)\n",
    "    soup = BeautifulSoup(r.text)\n",
    "\n",
    "    div = soup.find(\"div\", {\"data-property-id\": \"P2446\"})\n",
    "    transfermarkt_id = div.find(\"a\", class_=\"wb-external-id external\")\n",
    "\n",
    "    try:\n",
    "        transfermarkt_name = div.find_all(\"div\", class_=\"wikibase-snakview-value wikibase-snakview-variation-valuesnak\")[1].text\n",
    "    except IndexError:\n",
    "        transfermarkt_name = 'not on wikidata'\n",
    "\n",
    "    row = {\n",
    "        'wikipedia_page': wikipedia_page,\n",
    "        'transfermarkt_id': transfermarkt_id.text,\n",
    "        'transfermarkt_name': transfermarkt_name\n",
    "    }\n",
    "    \n",
    "    print(row)\n",
    "    \n",
    "    dataset.append(row)\n",
    "    scrapped.append(wikibase_id)"
   ]
  },
  {
   "cell_type": "code",
   "execution_count": 11,
   "id": "1b7a27e5",
   "metadata": {},
   "outputs": [],
   "source": [
    "df = pd.DataFrame(dataset)"
   ]
  },
  {
   "cell_type": "code",
   "execution_count": 12,
   "id": "091c4aa2",
   "metadata": {},
   "outputs": [],
   "source": [
    "df = pd.concat([df_old, df])"
   ]
  },
  {
   "cell_type": "code",
   "execution_count": 13,
   "id": "c39c1f60",
   "metadata": {},
   "outputs": [],
   "source": [
    "df.to_csv(\"../output/2022-wikipedia-to-transfermarkt.csv\", index=False)"
   ]
  },
  {
   "cell_type": "code",
   "execution_count": null,
   "id": "cb97a72c",
   "metadata": {},
   "outputs": [],
   "source": []
  }
 ],
 "metadata": {
  "kernelspec": {
   "display_name": "Python 3",
   "language": "python",
   "name": "python3"
  },
  "language_info": {
   "codemirror_mode": {
    "name": "ipython",
    "version": 3
   },
   "file_extension": ".py",
   "mimetype": "text/x-python",
   "name": "python",
   "nbconvert_exporter": "python",
   "pygments_lexer": "ipython3",
   "version": "3.8.8"
  }
 },
 "nbformat": 4,
 "nbformat_minor": 5
}
