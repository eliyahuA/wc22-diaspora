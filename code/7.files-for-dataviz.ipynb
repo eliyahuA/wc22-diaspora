{
 "cells": [
  {
   "cell_type": "code",
   "execution_count": 1,
   "id": "6fec1815",
   "metadata": {},
   "outputs": [],
   "source": [
    "import pandas as pd\n",
    "import json\n",
    "import numpy as np"
   ]
  },
  {
   "cell_type": "markdown",
   "id": "b10b128c",
   "metadata": {},
   "source": [
    "#### Interactive?"
   ]
  },
  {
   "cell_type": "code",
   "execution_count": 2,
   "id": "9a672412",
   "metadata": {},
   "outputs": [],
   "source": [
    "df = pd.read_csv(\"../output/2022-full-player-data.csv\")"
   ]
  },
  {
   "cell_type": "code",
   "execution_count": 3,
   "id": "94014ced",
   "metadata": {},
   "outputs": [],
   "source": [
    "names_and_links = pd.read_csv(\"../output/2022-wikipedia-to-transfermarkt.csv\")"
   ]
  },
  {
   "cell_type": "code",
   "execution_count": 4,
   "id": "2df94e2a",
   "metadata": {},
   "outputs": [],
   "source": [
    "df = df.merge(names_and_links, left_on='player_id', right_on='transfermarkt_id')"
   ]
  },
  {
   "cell_type": "code",
   "execution_count": 5,
   "id": "bbd8969d",
   "metadata": {},
   "outputs": [],
   "source": [
    "df['share_days_abroad'] = (df.days_abroad / df.total_days).round(2)\n",
    "df['share_days_home'] = (df.days_home / df.total_days).round(2)"
   ]
  },
  {
   "cell_type": "code",
   "execution_count": 6,
   "id": "740d3089",
   "metadata": {},
   "outputs": [],
   "source": [
    "df = df[[\"player_id\", \"transfermarkt_name\", \"date_of_birth\", \"age\", \"place_of_birth\", \"share_days_abroad\", \"share_days_home\", \"citizenship\", \"current_club\"]]"
   ]
  },
  {
   "cell_type": "code",
   "execution_count": 7,
   "id": "35012465",
   "metadata": {},
   "outputs": [],
   "source": [
    "for country in df.citizenship.unique():\n",
    "    \n",
    "    fname = country.lower().replace(\" \",\"-\")\n",
    "    \n",
    "    # Saves CSV\n",
    "    df[df.citizenship==country].to_csv(f\"../viz/data/teams/{fname}.csv\", index=False)\n",
    "    \n",
    "    \n",
    "    data = {\n",
    "        \"country\": country,\n",
    "        \"share_days_home\": df[df.citizenship==country].share_days_home.describe().round(2).to_dict(),\n",
    "        \"share_days_abroad\": df[df.citizenship==country].share_days_home.describe().round(2).to_dict()\n",
    "    }\n",
    "    # And a json with sumarry statistics\n",
    "    fpath = f\"../viz/data/summaries/{fname}.json\"\n",
    "    \n",
    "    with open(fpath, \"w+\") as file:\n",
    "        json.dump(data, file)"
   ]
  },
  {
   "cell_type": "code",
   "execution_count": 8,
   "id": "8064b1f6",
   "metadata": {},
   "outputs": [],
   "source": [
    "df[df.citizenship==country].to_csv(f\"../viz/data/teams/{country}.csv\", index=False)"
   ]
  },
  {
   "cell_type": "code",
   "execution_count": 9,
   "id": "da70b797",
   "metadata": {},
   "outputs": [],
   "source": [
    "df[df.citizenship==country].to_csv(f\"../viz/data/teams/{country}.csv\", index=False)"
   ]
  },
  {
   "cell_type": "code",
   "execution_count": 10,
   "id": "acae3395",
   "metadata": {},
   "outputs": [
    {
     "data": {
      "text/plain": [
       "{'count': 831.0,\n",
       " 'mean': 0.53,\n",
       " 'std': 0.35,\n",
       " 'min': 0.0,\n",
       " '25%': 0.24,\n",
       " '50%': 0.53,\n",
       " '75%': 0.87,\n",
       " 'max': 1.0}"
      ]
     },
     "execution_count": 10,
     "metadata": {},
     "output_type": "execute_result"
    }
   ],
   "source": [
    "df.share_days_home.describe().round(2).to_dict()"
   ]
  },
  {
   "cell_type": "code",
   "execution_count": 11,
   "id": "99a67d08",
   "metadata": {},
   "outputs": [],
   "source": [
    "selected_countries = [\n",
    "    \"England\", \"Germany\", \"Spain\", #\"France\",\n",
    "    \"Brazil\", \"Argentina\", \"Ecuador\", \"Uruguay\",\n",
    "    \"Cameroon\", \"Morocco\", \"Senegal\", \"Ghana\", \"Tunisia\"\n",
    "]"
   ]
  },
  {
   "cell_type": "code",
   "execution_count": 12,
   "id": "bf62e74f",
   "metadata": {},
   "outputs": [],
   "source": [
    "### By groups of interest\n",
    "caf_teams = ['Ghana', 'Senegal', 'Morocco', 'Cameroon', \"Tunisia\"]\n",
    "conmebol_teams = ['Brazil', 'Argentina', 'Uruguay', 'Ecuador']\n",
    "concacaf_teams = ['United States', 'Mexico', 'Canada', 'Costa Rica']\n",
    "afc_teams = ['Australia', 'Iran', 'Japan', 'Qatar', 'Saudi Arabia', 'Korea, South']\n",
    "uefa_teams = [ 'Belgium', 'Croatia', 'Denmark', 'England', 'France', 'Germany',\n",
    "              'Netherlands', 'Poland', 'Portugal', 'Serbia', 'Spain', 'Switzerland',\n",
    "              'Wales']"
   ]
  },
  {
   "cell_type": "code",
   "execution_count": 13,
   "id": "7a08a138",
   "metadata": {},
   "outputs": [],
   "source": [
    "def continent(row):\n",
    "    \n",
    "    if row.citizenship in caf_teams:\n",
    "        return 'africa'\n",
    "    elif row.citizenship in conmebol_teams:\n",
    "        return 'south-america'\n",
    "    elif row.citizenship in afc_teams:\n",
    "        return 'asia'\n",
    "    elif row.citizenship in concacaf_teams:\n",
    "        return 'central-and-north-america'\n",
    "    elif row.citizenship in uefa_teams:\n",
    "        return 'europe'"
   ]
  },
  {
   "cell_type": "code",
   "execution_count": 14,
   "id": "51be33dc",
   "metadata": {},
   "outputs": [],
   "source": [
    "df['continent'] = df.apply(continent, axis=1)"
   ]
  },
  {
   "cell_type": "code",
   "execution_count": 15,
   "id": "2dd498df",
   "metadata": {},
   "outputs": [],
   "source": [
    "df[df.citizenship.isin(selected_countries)].to_csv(\"../viz/data/selected-countries.csv\", index=False)"
   ]
  },
  {
   "cell_type": "code",
   "execution_count": 16,
   "id": "c2da5b3f",
   "metadata": {},
   "outputs": [],
   "source": [
    "df.to_csv(\"../viz/data/all-countries.csv\", index=False)"
   ]
  },
  {
   "cell_type": "markdown",
   "id": "b7d603c6",
   "metadata": {},
   "source": [
    "#### Dotplot"
   ]
  },
  {
   "cell_type": "code",
   "execution_count": 17,
   "id": "80263e57",
   "metadata": {},
   "outputs": [],
   "source": [
    "df = pd.read_csv(\"../output/2022-full-player-data.csv\")\n",
    "\n",
    "names_and_links = pd.read_csv(\"../output/2022-wikipedia-to-transfermarkt.csv\")\n",
    "\n",
    "df = df.merge(names_and_links, left_on='player_id', right_on='transfermarkt_id')"
   ]
  },
  {
   "cell_type": "code",
   "execution_count": null,
   "id": "46b6992d",
   "metadata": {},
   "outputs": [],
   "source": []
  }
 ],
 "metadata": {
  "kernelspec": {
   "display_name": "Python 3",
   "language": "python",
   "name": "python3"
  },
  "language_info": {
   "codemirror_mode": {
    "name": "ipython",
    "version": 3
   },
   "file_extension": ".py",
   "mimetype": "text/x-python",
   "name": "python",
   "nbconvert_exporter": "python",
   "pygments_lexer": "ipython3",
   "version": "3.8.8"
  }
 },
 "nbformat": 4,
 "nbformat_minor": 5
}
